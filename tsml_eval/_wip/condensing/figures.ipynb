{
 "cells": [
  {
   "cell_type": "code",
   "execution_count": 8,
   "metadata": {},
   "outputs": [],
   "source": [
    "import matplotlib.pyplot as plt\n",
    "import numpy as np\n",
    "\n",
    "\n",
    "def plot_return_condensed(CM, x_train, y_train, verbose=1):\n",
    "\n",
    "    plt.figure()\n",
    "\n",
    "    x_train_condensed, y_train_condensed = CM._fit_transform(x_train, y_train)\n",
    "    if verbose >= 1:\n",
    "        print(\n",
    "            f\"Selected indices ({len(x_train_condensed)}): {CM._get_selected_indices()}\"\n",
    "        )\n",
    "        print(y_train_condensed)\n",
    "        print(f\"Labels: {len(np.unique(y_train_condensed))/len(np.unique(y_train))}\")\n",
    "\n",
    "    _, _, len_ts = x_train_condensed.shape\n",
    "\n",
    "    color = {0: \"black\", 1: \"blue\", 2: \"red\", 3: \"green\", 4: \"pink\", 5: \"orange\"}\n",
    "\n",
    "    x = range(0, len_ts)\n",
    "\n",
    "    for idx, (series, label) in enumerate(zip(x_train, y_train)):\n",
    "        alpha = 0.2\n",
    "        if idx in CM._get_selected_indices():\n",
    "            alpha = 1\n",
    "\n",
    "        plt.plot(x, series[0, :], color=color[int(label)], alpha=alpha)\n",
    "\n",
    "    return x_train_condensed, y_train_condensed"
   ]
  },
  {
   "cell_type": "code",
   "execution_count": 2,
   "metadata": {},
   "outputs": [
    {
     "name": "stdout",
     "output_type": "stream",
     "text": [
      "<function load_unit_test at 0x7fa5641bd000>\n",
      "\tFull: 0.9090909090909091\n",
      "\tCondensed: 0.9090909090909091\n",
      "<function load_arrow_head at 0x7fa5641bd090>\n",
      "\tFull: 0.7942857142857143\n",
      "\tCondensed: 0.5371428571428571\n",
      "<function load_gunpoint at 0x7fa5641bcdc0>\n",
      "\tFull: 0.9666666666666667\n",
      "\tCondensed: 0.7066666666666667\n"
     ]
    }
   ],
   "source": [
    "from aeon.datasets._single_problem_loaders import (\n",
    "    load_arrow_head,\n",
    "    load_gunpoint,\n",
    "    load_unit_test,\n",
    ")\n",
    "from sklearn.metrics import accuracy_score\n",
    "\n",
    "from tsml_eval._wip.condensing.drop1 import Drop1\n",
    "from tsml_eval._wip.condensing.simple_rank import SimpleRank\n",
    "from tsml_eval._wip.condensing.wrapper import WrapperBA\n",
    "from tsml_eval.estimators.classification.distance_based import (\n",
    "    KNeighborsTimeSeriesClassifier,\n",
    ")\n",
    "\n",
    "for dataset in [load_unit_test, load_arrow_head, load_gunpoint]:\n",
    "\n",
    "    print(dataset)\n",
    "\n",
    "    x_train, y_train = dataset(\"TRAIN\")\n",
    "\n",
    "    CM = SimpleRank(distance=\"msm\", n_neighbors=2)  # SR\n",
    "    CM = Drop1(distance=\"msm\", n_neighbors=2)  # Drop1\n",
    "    CM = WrapperBA(distance=\"msm\")  # MBA/DBA\n",
    "\n",
    "    # x_train_condensed, y_train_condensed = plot_return_condensed(\n",
    "    #   CM, x_train, y_train, 0\n",
    "    # )\n",
    "    x_train_condensed, y_train_condensed = CM._fit_transform(x_train, y_train)\n",
    "\n",
    "    x_test, y_test = dataset(\"TEST\")\n",
    "\n",
    "    knn = KNeighborsTimeSeriesClassifier(distance=\"msm\", n_neighbors=1)\n",
    "    knn.fit(x_train, y_train)\n",
    "    y_pred_full = knn.predict(x_test)\n",
    "\n",
    "    knn.fit(x_train_condensed, y_train_condensed)\n",
    "    y_pred_cond = knn.predict(x_test)\n",
    "\n",
    "    print(f\"\\tFull: {accuracy_score(y_test, y_pred_full)}\")\n",
    "    print(f\"\\tCondensed: {accuracy_score(y_test, y_pred_cond)}\")"
   ]
  },
  {
   "cell_type": "code",
   "execution_count": null,
   "metadata": {},
   "outputs": [],
   "source": []
  }
 ],
 "metadata": {
  "kernelspec": {
   "display_name": "TSR_original",
   "language": "python",
   "name": "python3"
  },
  "language_info": {
   "codemirror_mode": {
    "name": "ipython",
    "version": 3
   },
   "file_extension": ".py",
   "mimetype": "text/x-python",
   "name": "python",
   "nbconvert_exporter": "python",
   "pygments_lexer": "ipython3",
   "version": "3.10.4"
  },
  "orig_nbformat": 4
 },
 "nbformat": 4,
 "nbformat_minor": 2
}
